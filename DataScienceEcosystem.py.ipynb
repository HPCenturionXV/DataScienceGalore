{
 "cells": [
  {
   "cell_type": "markdown",
   "id": "7550e067",
   "metadata": {},
   "source": [
    "<b><u>Exercise 2 : Create markdown cell with Title of the Notebook<u><b>"
   ]
  },
  {
   "cell_type": "markdown",
   "id": "5cb2fcb4",
   "metadata": {},
   "source": [
    "# Data Science Tools and Ecosystem"
   ]
  },
  {
   "cell_type": "markdown",
   "id": "0f53dd8f",
   "metadata": {},
   "source": [
    "**<u>Exercise 3 : Create a markdown cell for an introduction<u>**"
   ]
  },
  {
   "cell_type": "markdown",
   "id": "eda4e216",
   "metadata": {},
   "source": [
    "In this notebook, Data Science Tools and Ecosystem are summarized."
   ]
  },
  {
   "cell_type": "markdown",
   "id": "03d48349",
   "metadata": {},
   "source": [
    "**<u>Exercise 10 - Insert a markdown cell to list Objectives<u>**"
   ]
  },
  {
   "cell_type": "markdown",
   "id": "caaae9d7",
   "metadata": {},
   "source": [
    "**Objectives:**\n",
    "\n",
    "- List popular languages for data science\n",
    "- List commonly used libraries by data scientists\n",
    "- List popular data science tools\n",
    "- Overview and introduction to repositories such as Github\n",
    "- Introduction to different development environments such as RStudio, JupyterLab, VisualStudio\n"
   ]
  },
  {
   "cell_type": "markdown",
   "id": "f8f0c6ff",
   "metadata": {},
   "source": [
    "**<u>Exercise 4 : Create a markdown cell to list data science languages<u>**"
   ]
  },
  {
   "cell_type": "markdown",
   "id": "0e64cf71",
   "metadata": {},
   "source": [
    "Some of the popular languages Data Scientists use are:\n",
    "\n",
    "1. Python\n",
    "1. R\n",
    "1. Julia\n",
    "1. Java\n",
    "1. Scala\n"
   ]
  },
  {
   "cell_type": "markdown",
   "id": "c38e92d2",
   "metadata": {},
   "source": [
    "**<u>Exercise 5 : Create a markdown cell to list data science libraries<u>**"
   ]
  },
  {
   "cell_type": "markdown",
   "id": "e59510eb",
   "metadata": {},
   "source": [
    "Some of the most commonly used Libraries used by Data Scientists include:\n",
    "\n",
    "1. Pandas\n",
    "1. Matplotlib.pyplot\n",
    "1. Numpy\n",
    "1. TensorFlow\n",
    "1. Scipy\n"
   ]
  },
  {
   "cell_type": "markdown",
   "id": "15f082a2",
   "metadata": {},
   "source": [
    "**<u>Exercise 6 : Create a markdown cell with a table of Data Science tools<u>**"
   ]
  },
  {
   "cell_type": "markdown",
   "id": "59060247",
   "metadata": {},
   "source": [
    "| Data Science Tools| \n",
    "| :---------------- | \n",
    "| Apache Spark      | \n",
    "| Apache Hadoop     | \n",
    "| JupyterLab        |  \n",
    "| R studio          |  \n",
    "| TensorFlow        |"
   ]
  },
  {
   "cell_type": "markdown",
   "id": "c65fc5a7",
   "metadata": {},
   "source": [
    "**<u>Exercise 7 : Create a markdown cell introducing arithmetic expression examples<u>**"
   ]
  },
  {
   "cell_type": "markdown",
   "id": "0859240e",
   "metadata": {},
   "source": [
    "### Below are a few examples of evaluating arithmetic expressions in Python"
   ]
  },
  {
   "cell_type": "markdown",
   "id": "c5a39978",
   "metadata": {},
   "source": [
    "**<u>Exercise 8 : Create a code cell to multiply and add numbers<u>**"
   ]
  },
  {
   "cell_type": "code",
   "execution_count": 8,
   "id": "d6051af3",
   "metadata": {},
   "outputs": [
    {
     "name": "stdout",
     "output_type": "stream",
     "text": [
      "17\n"
     ]
    }
   ],
   "source": [
    "x=3\n",
    "y=4\n",
    "z=5\n",
    "#This is a simple arithmetic expression to multiply then add integers\n",
    "Answer=(x*y)+z\n",
    "print(Answer)\n"
   ]
  },
  {
   "cell_type": "markdown",
   "id": "0566a040",
   "metadata": {},
   "source": [
    "**<u>Exercise 9 : Create a code cell to convert minutes to hours<u>**"
   ]
  },
  {
   "cell_type": "code",
   "execution_count": 9,
   "id": "23b70b8e",
   "metadata": {},
   "outputs": [
    {
     "name": "stdout",
     "output_type": "stream",
     "text": [
      "3.33\n"
     ]
    }
   ],
   "source": [
    "t=60\n",
    "Minutes=200\n",
    "#This will convert 200 minutes into hours by dividing by 60\n",
    "Hours= Minutes/t\n",
    "#round answer off to 2 decimal places \n",
    "print (round(Hours,2))"
   ]
  },
  {
   "cell_type": "markdown",
   "id": "828f9071",
   "metadata": {},
   "source": [
    "**<u>Exercise 10 : Insert a markdown cell to list Objectives<u>**"
   ]
  },
  {
   "cell_type": "markdown",
   "id": "dbbf7d1e",
   "metadata": {},
   "source": [
    "Below the introduction cell created in Exercise 3"
   ]
  },
  {
   "cell_type": "markdown",
   "id": "c26f5fb1",
   "metadata": {},
   "source": [
    "**<u>Exercise 11 : Create a markdown cell to indicate the Author's name<u>**"
   ]
  },
  {
   "cell_type": "markdown",
   "id": "b5c7ec37",
   "metadata": {},
   "source": [
    "## Author\n",
    "\n",
    "Hetarth Patel"
   ]
  },
  {
   "cell_type": "code",
   "execution_count": null,
   "id": "f24780ab",
   "metadata": {},
   "outputs": [],
   "source": []
  }
 ],
 "metadata": {
  "kernelspec": {
   "display_name": "Python 3 (ipykernel)",
   "language": "python",
   "name": "python3"
  },
  "language_info": {
   "codemirror_mode": {
    "name": "ipython",
    "version": 3
   },
   "file_extension": ".py",
   "mimetype": "text/x-python",
   "name": "python",
   "nbconvert_exporter": "python",
   "pygments_lexer": "ipython3",
   "version": "3.11.4"
  }
 },
 "nbformat": 4,
 "nbformat_minor": 5
}
